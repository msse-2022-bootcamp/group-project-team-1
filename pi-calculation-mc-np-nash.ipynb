{
 "cells": [
  {
   "cell_type": "markdown",
   "id": "69b41884",
   "metadata": {},
   "source": [
    "# Comparison of $\\pi$ calculation using PSL and NumPy"
   ]
  },
  {
   "cell_type": "code",
   "execution_count": 3,
   "id": "ea797adb",
   "metadata": {},
   "outputs": [],
   "source": [
    "import math\n",
    "import random\n",
    "import time\n",
    "\n",
    "import numpy as np"
   ]
  },
  {
   "cell_type": "code",
   "execution_count": 4,
   "id": "41e2e6f4",
   "metadata": {},
   "outputs": [
    {
     "name": "stdout",
     "output_type": "stream",
     "text": [
      "The calculated value of pi is 3.1412792.\n",
      "The elapsed time was: 6.615772485733032 seconds.\n"
     ]
    }
   ],
   "source": [
    "num_samples = 10000000\n",
    "\n",
    "# Start timer\n",
    "start = time.time()\n",
    "\n",
    "num_inside = 0\n",
    "\n",
    "\n",
    "for i in range(num_samples):\n",
    "    \n",
    "    # Generate a random point between 0 and 1 for x.\n",
    "    x = random.random()\n",
    "    \n",
    "    # Generate a random point between 0 and 1 for y.\n",
    "    y = random.random()\n",
    "    \n",
    "    # Calculate the distance from the origin of (x, y)\n",
    "    r = math.sqrt(x ** 2 + y ** 2)\n",
    "    \n",
    "    # Count if it's inside of the circle.\n",
    "    if r < 1:\n",
    "        num_inside += 1\n",
    "        \n",
    "ratio = num_inside / num_samples\n",
    "# Calculate pi\n",
    "pi = 4 * ratio\n",
    "\n",
    "# End timer\n",
    "end = time.time()\n",
    "\n",
    "elapsed_standard = end - start\n",
    "\n",
    "print(f\"The calculated value of pi is {pi}.\")\n",
    "print(f\"The elapsed time was: {elapsed_standard} seconds.\")"
   ]
  },
  {
   "cell_type": "code",
   "execution_count": 5,
   "id": "9b40e781",
   "metadata": {},
   "outputs": [
    {
     "name": "stdout",
     "output_type": "stream",
     "text": [
      "The calculated value of pi is 3.141488.\n",
      "The elapsed time was: 0.8576290607452393 seconds.\n"
     ]
    }
   ],
   "source": [
    "start = time.time()\n",
    "\n",
    "# Generate 100 random x,y points\n",
    "random_coordinates = np.random.random((num_samples, 2))\n",
    "\n",
    "# square each value\n",
    "r_squared = random_coordinates ** 2\n",
    "\n",
    "# sum the rows and take the square root of each value\n",
    "# calculate the distance from the origin.\n",
    "r_dist = np.sqrt(np.sum(r_squared, axis=1))\n",
    "\n",
    "# count how many have distance less than 1\n",
    "num_inside = np.sum(r_dist < 1)\n",
    "\n",
    "# calculate the ratio\n",
    "ratio = num_inside / num_samples\n",
    "\n",
    "# calculate pi\n",
    "pi = 4 * ratio\n",
    "\n",
    "end = time.time()\n",
    "\n",
    "elapsed_numpy = end - start\n",
    "\n",
    "print(f\"The calculated value of pi is {pi}.\")\n",
    "print(f\"The elapsed time was: {elapsed_numpy} seconds.\")"
   ]
  },
  {
   "cell_type": "code",
   "execution_count": 6,
   "id": "98df3a29",
   "metadata": {},
   "outputs": [
    {
     "data": {
      "text/plain": [
       "7.714025548509559"
      ]
     },
     "execution_count": 6,
     "metadata": {},
     "output_type": "execute_result"
    }
   ],
   "source": [
    "elapsed_standard / elapsed_numpy"
   ]
  },
  {
   "cell_type": "code",
   "execution_count": null,
   "id": "2b1c14e0",
   "metadata": {},
   "outputs": [],
   "source": []
  },
  {
   "cell_type": "code",
   "execution_count": null,
   "id": "44f08006",
   "metadata": {},
   "outputs": [],
   "source": []
  }
 ],
 "metadata": {
  "kernelspec": {
   "display_name": "Python 3 (ipykernel)",
   "language": "python",
   "name": "python3"
  },
  "language_info": {
   "codemirror_mode": {
    "name": "ipython",
    "version": 3
   },
   "file_extension": ".py",
   "mimetype": "text/x-python",
   "name": "python",
   "nbconvert_exporter": "python",
   "pygments_lexer": "ipython3",
   "version": "3.9.13"
  }
 },
 "nbformat": 4,
 "nbformat_minor": 5
}
