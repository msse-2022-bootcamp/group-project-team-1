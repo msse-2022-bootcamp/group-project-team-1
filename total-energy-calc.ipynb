{
 "cells": [
  {
   "cell_type": "markdown",
   "id": "1214acf7",
   "metadata": {},
   "source": [
    "# Energy Calculation Check\n",
    "\n",
    "Check that energy values match NIST."
   ]
  },
  {
   "cell_type": "code",
   "execution_count": 1,
   "id": "5d60e6dc",
   "metadata": {},
   "outputs": [],
   "source": [
    "import math\n",
    "\n",
    "def read_xyz(filepath):\n",
    "    \"\"\"\n",
    "    Reads coordinates from an xyz file.\n",
    "    \n",
    "    Parameters\n",
    "    ----------\n",
    "    filepath : str\n",
    "       The path to the xyz file to be processed.\n",
    "       \n",
    "    Returns\n",
    "    -------\n",
    "    atomic_coordinates : list\n",
    "        A two dimensional list containing atomic coordinates\n",
    "    \n",
    "    box_length : float\n",
    "        The length of one side of the box.\n",
    "    \"\"\"\n",
    "    \n",
    "    with open(filepath) as f:\n",
    "        box_length = float(f.readline().split()[0])\n",
    "        num_atoms = float(f.readline())\n",
    "        coordinates = f.readlines()\n",
    "    \n",
    "    atomic_coordinates = []\n",
    "    \n",
    "    for atom in coordinates:\n",
    "        split_atoms = atom.split()\n",
    "        \n",
    "        float_coords = []\n",
    "        \n",
    "        # We split this way to get rid of the atom label.\n",
    "        for coord in split_atoms[1:]:\n",
    "            float_coords.append(float(coord))\n",
    "            \n",
    "        atomic_coordinates.append(float_coords)\n",
    "        \n",
    "    \n",
    "    return atomic_coordinates, box_length\n",
    "\n",
    "def calculate_distance(coord1, coord2, box_length=None):\n",
    "    \"\"\"\n",
    "    Calculate the distance between two 3D coordinates.\n",
    "    \n",
    "    Parameters\n",
    "    ----------\n",
    "    coord1, coord2: list\n",
    "        The atomic coordinates\n",
    "    \n",
    "    Returns\n",
    "    -------\n",
    "    distance: float\n",
    "        The distance between the two points.\n",
    "    \"\"\"\n",
    "    \n",
    "    distance = 0\n",
    "    for i in range(3):\n",
    "        dim_dist = (coord1[i] - coord2[i]) \n",
    "        \n",
    "        if box_length:\n",
    "            dim_dist = dim_dist - box_length * round(dim_dist / box_length)\n",
    "        \n",
    "        dim_dist = dim_dist**2\n",
    "        distance += dim_dist\n",
    "    \n",
    "    distance = math.sqrt(distance)\n",
    "    return distance\n",
    "\n",
    "def calculate_LJ(r_ij):\n",
    "    \"\"\"\n",
    "    The LJ interaction energy between two particles.\n",
    "\n",
    "    Computes the pairwise Lennard Jones interaction energy based on the separation distance in reduced units.\n",
    "\n",
    "    Parameters\n",
    "    ----------\n",
    "    r_ij : float\n",
    "        The distance between the particles in reduced units.\n",
    "    \n",
    "    Returns\n",
    "    -------\n",
    "    pairwise_energy : float\n",
    "        The pairwise Lennard Jones interaction energy in reduced units.\n",
    "\n",
    "    Examples\n",
    "    --------\n",
    "    >>> calculate_LJ(1)\n",
    "    0\n",
    "\n",
    "    \"\"\"\n",
    "    \n",
    "    r6_term = math.pow(1/r_ij, 6)\n",
    "    r12_term = math.pow(r6_term, 2)\n",
    "    \n",
    "    pairwise_energy = 4 * (r12_term - r6_term)\n",
    "    \n",
    "    return pairwise_energy\n",
    "\n",
    "## Add your group's tail correction function\n",
    "def calculate_tail_correction(num_particles, cutoff, box_length):\n",
    "    \"\"\"\n",
    "    Calculate the long range tail correction\n",
    "    \"\"\"\n",
    "    \n",
    "    const1 = (8 * math.pi * num_particles ** 2) / (3 * box_length ** 3)\n",
    "    const2 = (1/3) * (1 / cutoff)**9 - (1 / cutoff) **3\n",
    "    \n",
    "    return const1 * const2\n",
    "\n",
    "def calculate_total_energy(coordinates, cutoff, box_length=None):\n",
    "    \"\"\"\n",
    "    Calculate the total Lennard Jones energy of a system of particles.\n",
    "    \n",
    "    Parameters\n",
    "    ----------\n",
    "    coordinates : list\n",
    "        Nested list containing particle coordinates.\n",
    "        \n",
    "    Returns\n",
    "    -------\n",
    "    total_energy : float\n",
    "        The total Lennard Jones energy.\n",
    "    \"\"\"\n",
    "    \n",
    "    total_energy = 0\n",
    "    num_atoms = len(coordinates)\n",
    "    \n",
    "    for i in range(num_atoms):\n",
    "        for j in range(i+1, num_atoms):\n",
    "            #print(f\"Comparing {i} and {j}\")\n",
    "            dist_ij = calculate_distance(coordinates[i], coordinates[j], box_length)\n",
    "            if dist_ij< cutoff:\n",
    "                particle_energy = calculate_LJ(dist_ij)\n",
    "                total_energy += particle_energy\n",
    "            \n",
    "    return total_energy"
   ]
  },
  {
   "cell_type": "code",
   "execution_count": 2,
   "id": "143cbffd",
   "metadata": {},
   "outputs": [],
   "source": [
    "## Read in first sample configuration file here\n",
    "filepath = \"lj_sample_configurations/lj_sample_config_periodic1.txt\"\n",
    "\n",
    "sample_coords, box_length = read_xyz(filepath)"
   ]
  },
  {
   "cell_type": "code",
   "execution_count": 3,
   "id": "2afa3b93",
   "metadata": {},
   "outputs": [
    {
     "data": {
      "text/plain": [
       "-198.4888837441566"
      ]
     },
     "execution_count": 3,
     "metadata": {},
     "output_type": "execute_result"
    }
   ],
   "source": [
    "## Check total energy here\n",
    "total_energy = calculate_total_energy(sample_coords, 3, 10)\n",
    "calculate_tail_correction(len(sample_coords), 3, 10)"
   ]
  },
  {
   "cell_type": "code",
   "execution_count": 4,
   "id": "95a139e6",
   "metadata": {},
   "outputs": [
    {
     "name": "stdout",
     "output_type": "stream",
     "text": [
      "-4351.540194543858\n"
     ]
    }
   ],
   "source": [
    "print(total_energy)"
   ]
  },
  {
   "cell_type": "code",
   "execution_count": null,
   "id": "c73a580b",
   "metadata": {},
   "outputs": [],
   "source": []
  }
 ],
 "metadata": {
  "kernelspec": {
   "display_name": "Python 3 (ipykernel)",
   "language": "python",
   "name": "python3"
  },
  "language_info": {
   "codemirror_mode": {
    "name": "ipython",
    "version": 3
   },
   "file_extension": ".py",
   "mimetype": "text/x-python",
   "name": "python",
   "nbconvert_exporter": "python",
   "pygments_lexer": "ipython3",
   "version": "3.9.12"
  }
 },
 "nbformat": 4,
 "nbformat_minor": 5
}
