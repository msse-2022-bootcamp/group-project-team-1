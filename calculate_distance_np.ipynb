{
 "cells": [
  {
   "cell_type": "markdown",
   "id": "3c823205",
   "metadata": {},
   "source": [
    "# Rewrite calculate distance using NumPy"
   ]
  },
  {
   "cell_type": "code",
   "execution_count": 5,
   "id": "87a54059",
   "metadata": {},
   "outputs": [],
   "source": [
    "import math\n",
    "\n",
    "import numpy as np\n",
    "\n",
    "def calculate_distance(coord1, coord2, box_length=None):\n",
    "    \"\"\"\n",
    "    Calculate the distance between two 3D coordinates.\n",
    "    \n",
    "    Parameters\n",
    "    ----------\n",
    "    coord1, coord2: list\n",
    "        The atomic coordinates\n",
    "    \n",
    "    Returns\n",
    "    -------\n",
    "    distance: float\n",
    "        The distance between the two points.\n",
    "    \"\"\"\n",
    "    \n",
    "    distance = 0\n",
    "    for i in range(3):\n",
    "        dim_dist = (coord1[i] - coord2[i]) \n",
    "        \n",
    "        if box_length:\n",
    "            dim_dist = dim_dist - box_length * round(dim_dist / box_length)\n",
    "        \n",
    "        dim_dist = dim_dist**2\n",
    "        distance += dim_dist\n",
    "    \n",
    "    distance = math.sqrt(distance)\n",
    "    return distance\n"
   ]
  },
  {
   "cell_type": "code",
   "execution_count": 6,
   "id": "b30bacba",
   "metadata": {},
   "outputs": [
    {
     "data": {
      "text/plain": [
       "1.0"
      ]
     },
     "execution_count": 6,
     "metadata": {},
     "output_type": "execute_result"
    }
   ],
   "source": [
    "point1 = [0, 0, 0]\n",
    "point2 = [0, 1, 0]\n",
    "\n",
    "calculate_distance(point1, point2)"
   ]
  },
  {
   "cell_type": "code",
   "execution_count": 7,
   "id": "a6ec6b7b",
   "metadata": {},
   "outputs": [
    {
     "data": {
      "text/plain": [
       "1.0"
      ]
     },
     "execution_count": 7,
     "metadata": {},
     "output_type": "execute_result"
    }
   ],
   "source": [
    "point1 = np.array([0, 0, 0])\n",
    "point2 = np.array([0, 1, 0])\n",
    "\n",
    "calculate_distance(point1, point2)"
   ]
  },
  {
   "cell_type": "code",
   "execution_count": 38,
   "id": "2fbe2e11",
   "metadata": {},
   "outputs": [],
   "source": [
    "def calculate_distance_np(coord1, coord2, box_length=None):\n",
    "    \"\"\"\n",
    "    Calculate the distance between two 3D coordinates.\n",
    "    \n",
    "    Parameters\n",
    "    ----------\n",
    "    coord1, coord2: np.ndarray\n",
    "        The atomic coordinates\n",
    "    \n",
    "    Returns\n",
    "    -------\n",
    "    distance: np.ndarray\n",
    "        The distance between particles.\n",
    "    \"\"\"\n",
    "    \n",
    "    coord_dist = coord1 - coord2\n",
    "    \n",
    "    if box_length:\n",
    "        coord_dist = coord_dist - box_length * np.round(coord_dist / box_length)\n",
    "        \n",
    "    if coord_dist.ndim < 2:\n",
    "        coord_dist = coord_dist.reshape(1, 3)\n",
    "    \n",
    "    coord_dist = coord_dist ** 2\n",
    "    \n",
    "    coord_dist_sum = coord_dist.sum(axis=1)\n",
    "    \n",
    "    distance = np.sqrt(coord_dist_sum)\n",
    "    \n",
    "    return distance"
   ]
  },
  {
   "cell_type": "code",
   "execution_count": 39,
   "id": "287c9b05",
   "metadata": {},
   "outputs": [
    {
     "data": {
      "text/plain": [
       "array([1.])"
      ]
     },
     "execution_count": 39,
     "metadata": {},
     "output_type": "execute_result"
    }
   ],
   "source": [
    "calculate_distance_np(point1, point2, 10)"
   ]
  },
  {
   "cell_type": "code",
   "execution_count": 40,
   "id": "84701180",
   "metadata": {},
   "outputs": [
    {
     "data": {
      "text/plain": [
       "array([2. , 0.5])"
      ]
     },
     "execution_count": 40,
     "metadata": {},
     "output_type": "execute_result"
    }
   ],
   "source": [
    "coord_set1 = np.array([[0, 0, 0], [0, 1, 0]])\n",
    "coord_set2 = np.array([[0, 8, 0], [0, 1.5, 0]])\n",
    "\n",
    "# Want to get two distances\n",
    "calculate_distance_np(coord_set1, coord_set2, 10)"
   ]
  },
  {
   "cell_type": "code",
   "execution_count": 41,
   "id": "38529354",
   "metadata": {},
   "outputs": [
    {
     "data": {
      "text/plain": [
       "array([8. , 1.5])"
      ]
     },
     "execution_count": 41,
     "metadata": {},
     "output_type": "execute_result"
    }
   ],
   "source": [
    "calculate_distance_np(coord_set1[0], coord_set2)"
   ]
  },
  {
   "cell_type": "code",
   "execution_count": 37,
   "id": "a122c2ad",
   "metadata": {},
   "outputs": [
    {
     "data": {
      "text/plain": [
       "array([[0, 0, 0]])"
      ]
     },
     "execution_count": 37,
     "metadata": {},
     "output_type": "execute_result"
    }
   ],
   "source": [
    "point1.reshape(1, -1)"
   ]
  },
  {
   "cell_type": "code",
   "execution_count": 33,
   "id": "0e6847f8",
   "metadata": {},
   "outputs": [
    {
     "data": {
      "text/plain": [
       "1"
      ]
     },
     "execution_count": 33,
     "metadata": {},
     "output_type": "execute_result"
    }
   ],
   "source": [
    "point1.ndim"
   ]
  },
  {
   "cell_type": "code",
   "execution_count": 50,
   "id": "a0526b4a",
   "metadata": {},
   "outputs": [
    {
     "data": {
      "text/plain": [
       "array([[1, 2],\n",
       "       [3, 4],\n",
       "       [5, 6]])"
      ]
     },
     "execution_count": 50,
     "metadata": {},
     "output_type": "execute_result"
    }
   ],
   "source": [
    "coord_set1 = np.array([[1, 2, 3], [4, 5, 6]])\n",
    "coord_set1.reshape(3, -1)"
   ]
  },
  {
   "cell_type": "code",
   "execution_count": 51,
   "id": "926b819e",
   "metadata": {},
   "outputs": [
    {
     "data": {
      "text/plain": [
       "array([[1, 2, 3],\n",
       "       [4, 5, 6]])"
      ]
     },
     "execution_count": 51,
     "metadata": {},
     "output_type": "execute_result"
    }
   ],
   "source": [
    "coord_set1"
   ]
  },
  {
   "cell_type": "code",
   "execution_count": null,
   "id": "0e29a125",
   "metadata": {},
   "outputs": [],
   "source": []
  }
 ],
 "metadata": {
  "kernelspec": {
   "display_name": "Python 3 (ipykernel)",
   "language": "python",
   "name": "python3"
  },
  "language_info": {
   "codemirror_mode": {
    "name": "ipython",
    "version": 3
   },
   "file_extension": ".py",
   "mimetype": "text/x-python",
   "name": "python",
   "nbconvert_exporter": "python",
   "pygments_lexer": "ipython3",
   "version": "3.9.13"
  }
 },
 "nbformat": 4,
 "nbformat_minor": 5
}
