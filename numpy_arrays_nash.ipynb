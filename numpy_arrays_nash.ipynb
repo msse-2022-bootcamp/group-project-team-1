{
 "cells": [
  {
   "cell_type": "markdown",
   "id": "8b7461ad",
   "metadata": {},
   "source": [
    "# Intro to NumPy Arrays"
   ]
  },
  {
   "cell_type": "code",
   "execution_count": 1,
   "id": "1fb855dd",
   "metadata": {},
   "outputs": [],
   "source": [
    "import numpy as np\n",
    "import math"
   ]
  },
  {
   "cell_type": "code",
   "execution_count": 3,
   "id": "24cfe611",
   "metadata": {},
   "outputs": [],
   "source": [
    "# Construct some coordinates\n",
    "coordinates = [[0, 0, 0], [0, 0, math.pow(2, 1/6)], [0, 0, 2*math.pow(2, 1/6)], [0, math.pow(2, 1/6), 0]]\n",
    "\n",
    "second_coordinate = coordinates[1]"
   ]
  },
  {
   "cell_type": "code",
   "execution_count": 5,
   "id": "600d969d",
   "metadata": {},
   "outputs": [],
   "source": [
    "translation_vector = [0.1, -0.1, 0]\n",
    "\n",
    "new_coordinate = []\n",
    "for i in range(3):\n",
    "    translated_coordinate = second_coordinate[i] + translation_vector[i]\n",
    "    new_coordinate.append(translated_coordinate)"
   ]
  },
  {
   "cell_type": "code",
   "execution_count": 6,
   "id": "a014b30f",
   "metadata": {},
   "outputs": [],
   "source": [
    "# Create a numpy array from a list\n",
    "second_coordinate_np = np.array(second_coordinate)\n",
    "\n",
    "# Create a numpy array from a list\n",
    "translation_vector_np = np.array(translation_vector)"
   ]
  },
  {
   "cell_type": "code",
   "execution_count": 10,
   "id": "e4c37b78",
   "metadata": {},
   "outputs": [],
   "source": [
    "new_coordinate_np = second_coordinate_np + translation_vector_np"
   ]
  },
  {
   "cell_type": "code",
   "execution_count": 11,
   "id": "2d3aa7c5",
   "metadata": {},
   "outputs": [
    {
     "name": "stdout",
     "output_type": "stream",
     "text": [
      "[ 0.1        -0.1         1.12246205]\n"
     ]
    }
   ],
   "source": [
    "print(new_coordinate_np)"
   ]
  },
  {
   "cell_type": "code",
   "execution_count": 13,
   "id": "7fe15e78",
   "metadata": {},
   "outputs": [
    {
     "data": {
      "text/plain": [
       "numpy.ndarray"
      ]
     },
     "execution_count": 13,
     "metadata": {},
     "output_type": "execute_result"
    }
   ],
   "source": [
    "type(new_coordinate_np)"
   ]
  },
  {
   "cell_type": "code",
   "execution_count": 14,
   "id": "85452744",
   "metadata": {},
   "outputs": [
    {
     "data": {
      "text/plain": [
       "[0, 0, 1.122462048309373, 0.1, -0.1, 0]"
      ]
     },
     "execution_count": 14,
     "metadata": {},
     "output_type": "execute_result"
    }
   ],
   "source": [
    "second_coordinate + translation_vector"
   ]
  },
  {
   "cell_type": "code",
   "execution_count": 15,
   "id": "e4be2fc0",
   "metadata": {},
   "outputs": [
    {
     "data": {
      "text/plain": [
       "(3,)"
      ]
     },
     "execution_count": 15,
     "metadata": {},
     "output_type": "execute_result"
    }
   ],
   "source": [
    "# Access array shape\n",
    "second_coordinate_np.shape"
   ]
  },
  {
   "cell_type": "code",
   "execution_count": 16,
   "id": "e057d555",
   "metadata": {},
   "outputs": [
    {
     "data": {
      "text/plain": [
       "1"
      ]
     },
     "execution_count": 16,
     "metadata": {},
     "output_type": "execute_result"
    }
   ],
   "source": [
    "# Access the number of dimensions\n",
    "second_coordinate_np.ndim"
   ]
  },
  {
   "cell_type": "code",
   "execution_count": 17,
   "id": "749f46a6",
   "metadata": {},
   "outputs": [],
   "source": [
    "coordinates_np = np.array(coordinates)"
   ]
  },
  {
   "cell_type": "code",
   "execution_count": 18,
   "id": "daca9c84",
   "metadata": {},
   "outputs": [
    {
     "data": {
      "text/plain": [
       "(4, 3)"
      ]
     },
     "execution_count": 18,
     "metadata": {},
     "output_type": "execute_result"
    }
   ],
   "source": [
    "coordinates_np.shape"
   ]
  },
  {
   "cell_type": "code",
   "execution_count": 19,
   "id": "09176a51",
   "metadata": {},
   "outputs": [
    {
     "data": {
      "text/plain": [
       "2"
      ]
     },
     "execution_count": 19,
     "metadata": {},
     "output_type": "execute_result"
    }
   ],
   "source": [
    "coordinates_np.ndim"
   ]
  },
  {
   "cell_type": "code",
   "execution_count": 21,
   "id": "9c07a0d4",
   "metadata": {},
   "outputs": [
    {
     "data": {
      "text/plain": [
       "0.0"
      ]
     },
     "execution_count": 21,
     "metadata": {},
     "output_type": "execute_result"
    }
   ],
   "source": [
    "# accessing information in multidimensional array vs python list\n",
    "\n",
    "# access y coordinate of first atom\n",
    "coordinates[0][1]\n",
    "\n",
    "# access y coordinate of first atom in NumPy array\n",
    "coordinates_np[0, 1]"
   ]
  },
  {
   "cell_type": "markdown",
   "id": "cd002dcd",
   "metadata": {},
   "source": [
    "## Broadcasting"
   ]
  },
  {
   "cell_type": "code",
   "execution_count": 22,
   "id": "77f9e849",
   "metadata": {},
   "outputs": [
    {
     "name": "stdout",
     "output_type": "stream",
     "text": [
      "[[ 0.1        -0.1         0.        ]\n",
      " [ 0.1        -0.1         1.12246205]\n",
      " [ 0.1        -0.1         2.2449241 ]\n",
      " [ 0.1         1.02246205  0.        ]]\n"
     ]
    }
   ],
   "source": [
    "# Translate our molecule\n",
    "new_coordinates_np = coordinates_np + translation_vector\n",
    "\n",
    "print(new_coordinates_np)"
   ]
  },
  {
   "cell_type": "code",
   "execution_count": 23,
   "id": "1a77d2b7",
   "metadata": {},
   "outputs": [
    {
     "data": {
      "text/plain": [
       "(4, 3)"
      ]
     },
     "execution_count": 23,
     "metadata": {},
     "output_type": "execute_result"
    }
   ],
   "source": [
    "new_coordinates_np.shape"
   ]
  },
  {
   "cell_type": "code",
   "execution_count": 24,
   "id": "4448731b",
   "metadata": {},
   "outputs": [
    {
     "data": {
      "text/plain": [
       "(3,)"
      ]
     },
     "execution_count": 24,
     "metadata": {},
     "output_type": "execute_result"
    }
   ],
   "source": [
    "translation_vector_np.shape"
   ]
  },
  {
   "cell_type": "code",
   "execution_count": 26,
   "id": "ef7f6a7e",
   "metadata": {},
   "outputs": [
    {
     "data": {
      "text/plain": [
       "array([[False, False, False],\n",
       "       [False, False,  True],\n",
       "       [False, False,  True],\n",
       "       [False,  True, False]])"
      ]
     },
     "execution_count": 26,
     "metadata": {},
     "output_type": "execute_result"
    }
   ],
   "source": [
    "# Can do logical comparisons\n",
    "coordinates_np > 0"
   ]
  },
  {
   "cell_type": "code",
   "execution_count": 28,
   "id": "cfb94eb9",
   "metadata": {},
   "outputs": [],
   "source": [
    "# using logical comparison as index into array\n",
    "greater_than_zero_values = coordinates_np[coordinates_np > 0]"
   ]
  },
  {
   "cell_type": "code",
   "execution_count": 29,
   "id": "b549c948",
   "metadata": {},
   "outputs": [
    {
     "data": {
      "text/plain": [
       "(4, 3)"
      ]
     },
     "execution_count": 29,
     "metadata": {},
     "output_type": "execute_result"
    }
   ],
   "source": [
    "coordinates_np.shape"
   ]
  },
  {
   "cell_type": "code",
   "execution_count": 31,
   "id": "3ddba54b",
   "metadata": {},
   "outputs": [
    {
     "data": {
      "text/plain": [
       "array([0.        , 0.28061551, 0.84184654])"
      ]
     },
     "execution_count": 31,
     "metadata": {},
     "output_type": "execute_result"
    }
   ],
   "source": [
    "coordinates_np.mean(axis=0)"
   ]
  },
  {
   "cell_type": "code",
   "execution_count": 35,
   "id": "b13e06d7",
   "metadata": {},
   "outputs": [
    {
     "data": {
      "text/plain": [
       "array([0.        , 0.        , 0.        , 1.12246205])"
      ]
     },
     "execution_count": 35,
     "metadata": {},
     "output_type": "execute_result"
    }
   ],
   "source": [
    "coordinates_np[:, 1]"
   ]
  },
  {
   "cell_type": "code",
   "execution_count": null,
   "id": "07b451d1",
   "metadata": {},
   "outputs": [],
   "source": [
    "# Break for 15ish minutes - be back at 36 minutes after the hour."
   ]
  }
 ],
 "metadata": {
  "kernelspec": {
   "display_name": "Python 3 (ipykernel)",
   "language": "python",
   "name": "python3"
  },
  "language_info": {
   "codemirror_mode": {
    "name": "ipython",
    "version": 3
   },
   "file_extension": ".py",
   "mimetype": "text/x-python",
   "name": "python",
   "nbconvert_exporter": "python",
   "pygments_lexer": "ipython3",
   "version": "3.9.13"
  }
 },
 "nbformat": 4,
 "nbformat_minor": 5
}
