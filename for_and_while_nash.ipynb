{
 "cells": [
  {
   "cell_type": "markdown",
   "id": "58e93adc",
   "metadata": {},
   "source": [
    "# Loops in Python"
   ]
  },
  {
   "cell_type": "code",
   "execution_count": 9,
   "id": "635ea672",
   "metadata": {},
   "outputs": [
    {
     "name": "stdout",
     "output_type": "stream",
     "text": [
      "1\n",
      "3\n",
      "5\n",
      "8\n",
      "Range for loop\n",
      "2\n",
      "4\n",
      "6\n"
     ]
    }
   ],
   "source": [
    "my_list = [1, 3, 5, 8]\n",
    "\n",
    "# Looping over a list (sequence)\n",
    "for element in my_list:\n",
    "    print(element)\n",
    "\n",
    "print(\"Range for loop\")\n",
    "# Range for loop for integers\n",
    "for i in range(2, 8, 2):\n",
    "    print(i)"
   ]
  },
  {
   "cell_type": "code",
   "execution_count": 5,
   "id": "8ae69316",
   "metadata": {},
   "outputs": [
    {
     "data": {
      "text/plain": [
       "[0, 1, 2, 3, 4, 5, 6, 7]"
      ]
     },
     "execution_count": 5,
     "metadata": {},
     "output_type": "execute_result"
    }
   ],
   "source": [
    "list(range(8))"
   ]
  },
  {
   "cell_type": "code",
   "execution_count": 10,
   "id": "4f6a5a52",
   "metadata": {},
   "outputs": [],
   "source": [
    "# Task: Create a list of values between 0 and 5 with increments of 0.1\n",
    "\n",
    "# with a while loop\n",
    "max_value = 5\n",
    "increment = 0.1\n",
    "while_values = []\n",
    "current_value = 0\n",
    "\n",
    "while current_value < max_value:\n",
    "    while_values.append(current_value)\n",
    "    current_value += increment"
   ]
  },
  {
   "cell_type": "code",
   "execution_count": 11,
   "id": "f4fce1c1",
   "metadata": {},
   "outputs": [
    {
     "name": "stdout",
     "output_type": "stream",
     "text": [
      "[0, 0.1, 0.2, 0.30000000000000004, 0.4, 0.5, 0.6, 0.7, 0.7999999999999999, 0.8999999999999999, 0.9999999999999999, 1.0999999999999999, 1.2, 1.3, 1.4000000000000001, 1.5000000000000002, 1.6000000000000003, 1.7000000000000004, 1.8000000000000005, 1.9000000000000006, 2.0000000000000004, 2.1000000000000005, 2.2000000000000006, 2.3000000000000007, 2.400000000000001, 2.500000000000001, 2.600000000000001, 2.700000000000001, 2.800000000000001, 2.9000000000000012, 3.0000000000000013, 3.1000000000000014, 3.2000000000000015, 3.3000000000000016, 3.4000000000000017, 3.5000000000000018, 3.600000000000002, 3.700000000000002, 3.800000000000002, 3.900000000000002, 4.000000000000002, 4.100000000000001, 4.200000000000001, 4.300000000000001, 4.4, 4.5, 4.6, 4.699999999999999, 4.799999999999999, 4.899999999999999, 4.999999999999998]\n"
     ]
    }
   ],
   "source": [
    "print(while_values)"
   ]
  },
  {
   "cell_type": "code",
   "execution_count": 12,
   "id": "25c40cad",
   "metadata": {},
   "outputs": [],
   "source": [
    "# with a for loop\n",
    "max_value = 5\n",
    "increment = 0.1\n",
    "for_values = []\n",
    "num_intervals = int(max_value / increment)\n",
    "\n",
    "for i in range(num_intervals):\n",
    "    for_values.append(increment * i)"
   ]
  },
  {
   "cell_type": "code",
   "execution_count": 13,
   "id": "fd1c4ff3",
   "metadata": {},
   "outputs": [
    {
     "name": "stdout",
     "output_type": "stream",
     "text": [
      "[0.0, 0.1, 0.2, 0.30000000000000004, 0.4, 0.5, 0.6000000000000001, 0.7000000000000001, 0.8, 0.9, 1.0, 1.1, 1.2000000000000002, 1.3, 1.4000000000000001, 1.5, 1.6, 1.7000000000000002, 1.8, 1.9000000000000001, 2.0, 2.1, 2.2, 2.3000000000000003, 2.4000000000000004, 2.5, 2.6, 2.7, 2.8000000000000003, 2.9000000000000004, 3.0, 3.1, 3.2, 3.3000000000000003, 3.4000000000000004, 3.5, 3.6, 3.7, 3.8000000000000003, 3.9000000000000004, 4.0, 4.1000000000000005, 4.2, 4.3, 4.4, 4.5, 4.6000000000000005, 4.7, 4.800000000000001, 4.9]\n"
     ]
    }
   ],
   "source": [
    "print(for_values)"
   ]
  },
  {
   "cell_type": "code",
   "execution_count": 14,
   "id": "9a1c7b3b",
   "metadata": {},
   "outputs": [
    {
     "name": "stdout",
     "output_type": "stream",
     "text": [
      "Enter things for your shopping list. Type 'done' when you are finished:\n",
      "eggs\n",
      "Enter things for your shopping list. Type 'done' when you are finished:\n",
      "milk\n",
      "Enter things for your shopping list. Type 'done' when you are finished:\n",
      "lettuc\n",
      "Enter things for your shopping list. Type 'done' when you are finished:\n",
      "done\n",
      "My shopping list is ['eggs', 'milk', 'lettuc', 'done'].\n"
     ]
    }
   ],
   "source": [
    "# something I would use a while loop for\n",
    "item = \"\"\n",
    "shopping_list = []\n",
    "\n",
    "while item.lower() != \"done\":\n",
    "    item = input(\"Enter things for your shopping list. Type 'done' when you are finished:\\n\")\n",
    "    if item.lower() != \"done\":\n",
    "        shopping_list.append(item)\n",
    "    \n",
    "print(f\"My shopping list is {shopping_list}.\")"
   ]
  },
  {
   "cell_type": "code",
   "execution_count": 17,
   "id": "287a8139",
   "metadata": {},
   "outputs": [],
   "source": [
    "None"
   ]
  },
  {
   "cell_type": "code",
   "execution_count": 18,
   "id": "220e3013",
   "metadata": {},
   "outputs": [
    {
     "ename": "AssertionError",
     "evalue": "",
     "output_type": "error",
     "traceback": [
      "\u001b[0;31m---------------------------------------------------------------------------\u001b[0m",
      "\u001b[0;31mAssertionError\u001b[0m                            Traceback (most recent call last)",
      "Input \u001b[0;32mIn [18]\u001b[0m, in \u001b[0;36m<cell line: 1>\u001b[0;34m()\u001b[0m\n\u001b[0;32m----> 1\u001b[0m \u001b[38;5;28;01massert\u001b[39;00m \u001b[38;5;28;01mNone\u001b[39;00m\n",
      "\u001b[0;31mAssertionError\u001b[0m: "
     ]
    }
   ],
   "source": [
    "assert None"
   ]
  },
  {
   "cell_type": "code",
   "execution_count": 19,
   "id": "5ba84109",
   "metadata": {},
   "outputs": [
    {
     "ename": "AssertionError",
     "evalue": "",
     "output_type": "error",
     "traceback": [
      "\u001b[0;31m---------------------------------------------------------------------------\u001b[0m",
      "\u001b[0;31mAssertionError\u001b[0m                            Traceback (most recent call last)",
      "Input \u001b[0;32mIn [19]\u001b[0m, in \u001b[0;36m<cell line: 1>\u001b[0;34m()\u001b[0m\n\u001b[0;32m----> 1\u001b[0m \u001b[38;5;28;01massert\u001b[39;00m []\n",
      "\u001b[0;31mAssertionError\u001b[0m: "
     ]
    }
   ],
   "source": [
    "assert []"
   ]
  },
  {
   "cell_type": "code",
   "execution_count": 20,
   "id": "9093d645",
   "metadata": {},
   "outputs": [
    {
     "ename": "AssertionError",
     "evalue": "",
     "output_type": "error",
     "traceback": [
      "\u001b[0;31m---------------------------------------------------------------------------\u001b[0m",
      "\u001b[0;31mAssertionError\u001b[0m                            Traceback (most recent call last)",
      "Input \u001b[0;32mIn [20]\u001b[0m, in \u001b[0;36m<cell line: 1>\u001b[0;34m()\u001b[0m\n\u001b[0;32m----> 1\u001b[0m \u001b[38;5;28;01massert\u001b[39;00m \u001b[38;5;124m\"\u001b[39m\u001b[38;5;124m\"\u001b[39m\n",
      "\u001b[0;31mAssertionError\u001b[0m: "
     ]
    }
   ],
   "source": [
    "assert \"\""
   ]
  },
  {
   "cell_type": "code",
   "execution_count": 25,
   "id": "a6afa03e",
   "metadata": {},
   "outputs": [],
   "source": [
    "my_list = []\n",
    "\n",
    "if my_list:\n",
    "    my_list[0]"
   ]
  },
  {
   "cell_type": "code",
   "execution_count": null,
   "id": "dc949920",
   "metadata": {},
   "outputs": [],
   "source": []
  }
 ],
 "metadata": {
  "kernelspec": {
   "display_name": "Python 3 (ipykernel)",
   "language": "python",
   "name": "python3"
  },
  "language_info": {
   "codemirror_mode": {
    "name": "ipython",
    "version": 3
   },
   "file_extension": ".py",
   "mimetype": "text/x-python",
   "name": "python",
   "nbconvert_exporter": "python",
   "pygments_lexer": "ipython3",
   "version": "3.9.13"
  }
 },
 "nbformat": 4,
 "nbformat_minor": 5
}
