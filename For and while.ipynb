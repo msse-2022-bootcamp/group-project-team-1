{
 "cells": [
  {
   "cell_type": "code",
   "execution_count": 1,
   "id": "96823ef8",
   "metadata": {},
   "outputs": [],
   "source": [
    "# Task create a list of values between 0 and 5 with increments of 0.1\n",
    "\n",
    "# with a while loop\n",
    "max_value = 5\n",
    "increment = 0.11\n",
    "while_values = []\n",
    "current_value = 0\n",
    "\n",
    "while current_value < max_value:\n",
    "    while_values.append(current_value)\n",
    "    current_value += increment"
   ]
  },
  {
   "cell_type": "code",
   "execution_count": 14,
   "id": "fdeb2e40",
   "metadata": {},
   "outputs": [],
   "source": [
    "import math\n",
    "\n",
    "# with a for loop\n",
    "max_value = 5\n",
    "increment = 0.1\n",
    "num_intervals = math.ceil(max_value / increment)\n",
    "\n",
    "for_values = []\n",
    "\n",
    "for i in range(num_intervals):\n",
    "    for_values.append(increment * i)"
   ]
  },
  {
   "cell_type": "code",
   "execution_count": 15,
   "id": "833961c4",
   "metadata": {},
   "outputs": [
    {
     "name": "stdout",
     "output_type": "stream",
     "text": [
      "Enter things to add to the list. Type 'done' when you are finisheddone\n",
      "True\n",
      "My shopping list is ['done']\n"
     ]
    }
   ],
   "source": [
    "var = \"\"\n",
    "shopping_list = []\n",
    "\n",
    "while var.lower() != \"done\":\n",
    "    var = input(\"Enter things to add to the list. Type 'done' when you are finished\")\n",
    "    shopping_list.append(var)\n",
    "    print(var.lower() == \"done\")\n",
    "    \n",
    "print(f\"My shopping list is {shopping_list}\")"
   ]
  },
  {
   "cell_type": "code",
   "execution_count": 16,
   "id": "7c65aa58",
   "metadata": {},
   "outputs": [
    {
     "name": "stdout",
     "output_type": "stream",
     "text": [
      "[0.0, 0.1, 0.2, 0.30000000000000004, 0.4, 0.5, 0.6000000000000001, 0.7000000000000001, 0.8, 0.9, 1.0, 1.1, 1.2000000000000002, 1.3, 1.4000000000000001, 1.5, 1.6, 1.7000000000000002, 1.8, 1.9000000000000001, 2.0, 2.1, 2.2, 2.3000000000000003, 2.4000000000000004, 2.5, 2.6, 2.7, 2.8000000000000003, 2.9000000000000004, 3.0, 3.1, 3.2, 3.3000000000000003, 3.4000000000000004, 3.5, 3.6, 3.7, 3.8000000000000003, 3.9000000000000004, 4.0, 4.1000000000000005, 4.2, 4.3, 4.4, 4.5, 4.6000000000000005, 4.7, 4.800000000000001, 4.9]\n"
     ]
    }
   ],
   "source": [
    "print(for_values)"
   ]
  },
  {
   "cell_type": "code",
   "execution_count": null,
   "id": "d0260b81",
   "metadata": {},
   "outputs": [],
   "source": []
  }
 ],
 "metadata": {
  "kernelspec": {
   "display_name": "Python 3 (ipykernel)",
   "language": "python",
   "name": "python3"
  },
  "language_info": {
   "codemirror_mode": {
    "name": "ipython",
    "version": 3
   },
   "file_extension": ".py",
   "mimetype": "text/x-python",
   "name": "python",
   "nbconvert_exporter": "python",
   "pygments_lexer": "ipython3",
   "version": "3.9.13"
  }
 },
 "nbformat": 4,
 "nbformat_minor": 5
}
